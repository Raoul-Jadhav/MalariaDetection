{
 "cells": [
  {
   "cell_type": "code",
   "execution_count": 15,
   "metadata": {},
   "outputs": [],
   "source": [
    "# import the libraries as shown below\n",
    "\n",
    "from tensorflow.keras.layers import Input, Lambda, Dense, Flatten,Conv2D\n",
    "from tensorflow.keras.models import Model\n",
    "from tensorflow.keras.applications.vgg19 import VGG19\n",
    "from tensorflow.keras.applications.vgg19 import preprocess_input\n",
    "from tensorflow.keras.preprocessing import image\n",
    "from tensorflow.keras.preprocessing.image import ImageDataGenerator,load_img\n",
    "from tensorflow.keras.models import Sequential\n",
    "import numpy as np\n",
    "from glob import glob\n",
    "import matplotlib.pyplot as plt"
   ]
  },
  {
   "cell_type": "code",
   "execution_count": 16,
   "metadata": {},
   "outputs": [],
   "source": [
    "# re-size all the images to this\n",
    "IMAGE_SIZE = [224,224]\n",
    "\n",
    "train_path = 'F:/My Data Science Projects/Deep_Learning_Maleria_Detection/Dataset/Dataset/Train'\n",
    "valid_path = 'F:/My Data Science Projects/Deep_Learning_Maleria_Detection/Dataset/Dataset/Test'"
   ]
  },
  {
   "cell_type": "code",
   "execution_count": 17,
   "metadata": {},
   "outputs": [],
   "source": [
    "# Import the Vgg 19 library as shown below and add preprocessing layer to the front of VGG\n",
    "# Here we will be using imagenet weights\n",
    "vggmodel = VGG19(input_shape=IMAGE_SIZE + [3], weights='imagenet', include_top=False)"
   ]
  },
  {
   "cell_type": "code",
   "execution_count": 18,
   "metadata": {},
   "outputs": [],
   "source": [
    "# don't train existing weights\n",
    "for layer in vggmodel.layers:\n",
    "    layer.trainable = False"
   ]
  },
  {
   "cell_type": "code",
   "execution_count": 19,
   "metadata": {},
   "outputs": [],
   "source": [
    "# useful for getting number of output classes\n",
    "folders = glob('F:/My Data Science Projects/Deep_Learning_Maleria_Detection/Dataset/Dataset/Train/*')"
   ]
  },
  {
   "cell_type": "code",
   "execution_count": 20,
   "metadata": {},
   "outputs": [],
   "source": [
    "# our layers - you can add more if you want\n",
    "x = Flatten()(vggmodel.output)"
   ]
  },
  {
   "cell_type": "code",
   "execution_count": 21,
   "metadata": {},
   "outputs": [],
   "source": [
    "prediction = Dense(len(folders),activation='softmax')(x)\n",
    "\n",
    "# create a model object\n",
    "model = Model(inputs=vggmodel.input, outputs=prediction)"
   ]
  },
  {
   "cell_type": "code",
   "execution_count": 22,
   "metadata": {},
   "outputs": [
    {
     "name": "stdout",
     "output_type": "stream",
     "text": [
      "Model: \"model_1\"\n",
      "_________________________________________________________________\n",
      "Layer (type)                 Output Shape              Param #   \n",
      "=================================================================\n",
      "input_2 (InputLayer)         [(None, 224, 224, 3)]     0         \n",
      "_________________________________________________________________\n",
      "block1_conv1 (Conv2D)        (None, 224, 224, 64)      1792      \n",
      "_________________________________________________________________\n",
      "block1_conv2 (Conv2D)        (None, 224, 224, 64)      36928     \n",
      "_________________________________________________________________\n",
      "block1_pool (MaxPooling2D)   (None, 112, 112, 64)      0         \n",
      "_________________________________________________________________\n",
      "block2_conv1 (Conv2D)        (None, 112, 112, 128)     73856     \n",
      "_________________________________________________________________\n",
      "block2_conv2 (Conv2D)        (None, 112, 112, 128)     147584    \n",
      "_________________________________________________________________\n",
      "block2_pool (MaxPooling2D)   (None, 56, 56, 128)       0         \n",
      "_________________________________________________________________\n",
      "block3_conv1 (Conv2D)        (None, 56, 56, 256)       295168    \n",
      "_________________________________________________________________\n",
      "block3_conv2 (Conv2D)        (None, 56, 56, 256)       590080    \n",
      "_________________________________________________________________\n",
      "block3_conv3 (Conv2D)        (None, 56, 56, 256)       590080    \n",
      "_________________________________________________________________\n",
      "block3_conv4 (Conv2D)        (None, 56, 56, 256)       590080    \n",
      "_________________________________________________________________\n",
      "block3_pool (MaxPooling2D)   (None, 28, 28, 256)       0         \n",
      "_________________________________________________________________\n",
      "block4_conv1 (Conv2D)        (None, 28, 28, 512)       1180160   \n",
      "_________________________________________________________________\n",
      "block4_conv2 (Conv2D)        (None, 28, 28, 512)       2359808   \n",
      "_________________________________________________________________\n",
      "block4_conv3 (Conv2D)        (None, 28, 28, 512)       2359808   \n",
      "_________________________________________________________________\n",
      "block4_conv4 (Conv2D)        (None, 28, 28, 512)       2359808   \n",
      "_________________________________________________________________\n",
      "block4_pool (MaxPooling2D)   (None, 14, 14, 512)       0         \n",
      "_________________________________________________________________\n",
      "block5_conv1 (Conv2D)        (None, 14, 14, 512)       2359808   \n",
      "_________________________________________________________________\n",
      "block5_conv2 (Conv2D)        (None, 14, 14, 512)       2359808   \n",
      "_________________________________________________________________\n",
      "block5_conv3 (Conv2D)        (None, 14, 14, 512)       2359808   \n",
      "_________________________________________________________________\n",
      "block5_conv4 (Conv2D)        (None, 14, 14, 512)       2359808   \n",
      "_________________________________________________________________\n",
      "block5_pool (MaxPooling2D)   (None, 7, 7, 512)         0         \n",
      "_________________________________________________________________\n",
      "flatten_1 (Flatten)          (None, 25088)             0         \n",
      "_________________________________________________________________\n",
      "dense_1 (Dense)              (None, 2)                 50178     \n",
      "=================================================================\n",
      "Total params: 20,074,562\n",
      "Trainable params: 50,178\n",
      "Non-trainable params: 20,024,384\n",
      "_________________________________________________________________\n"
     ]
    }
   ],
   "source": [
    "# view the structure of the model\n",
    "model.summary()"
   ]
  },
  {
   "cell_type": "code",
   "execution_count": 23,
   "metadata": {},
   "outputs": [],
   "source": [
    "# tell the model what cost and optimization method to use\n",
    "model.compile(\n",
    "  loss='categorical_crossentropy',\n",
    "  optimizer='adam',\n",
    "  metrics=['accuracy']\n",
    ")"
   ]
  },
  {
   "cell_type": "code",
   "execution_count": 24,
   "metadata": {},
   "outputs": [],
   "source": [
    "# Use the Image Data Generator to import the images from the dataset\n",
    "from tensorflow.keras.preprocessing.image import ImageDataGenerator\n",
    "\n",
    "train_datagen = ImageDataGenerator(rescale = 1./255,\n",
    "                                   shear_range = 0.2,\n",
    "                                   zoom_range = 0.2,\n",
    "                                   horizontal_flip = True)\n",
    "\n",
    "test_datagen = ImageDataGenerator(rescale = 1./255)"
   ]
  },
  {
   "cell_type": "code",
   "execution_count": 25,
   "metadata": {},
   "outputs": [
    {
     "name": "stdout",
     "output_type": "stream",
     "text": [
      "Found 416 images belonging to 2 classes.\n"
     ]
    }
   ],
   "source": [
    "# Make sure you provide the same target size as initialied for the image size\n",
    "\n",
    "training_set = train_datagen.flow_from_directory('F:/My Data Science Projects/Deep_Learning_Maleria_Detection/Dataset/Dataset/Train',\n",
    "                                                 target_size = (224, 224),\n",
    "                                                 batch_size = 32,\n",
    "                                                 class_mode = 'categorical')"
   ]
  },
  {
   "cell_type": "code",
   "execution_count": 26,
   "metadata": {},
   "outputs": [
    {
     "name": "stdout",
     "output_type": "stream",
     "text": [
      "Found 134 images belonging to 2 classes.\n"
     ]
    }
   ],
   "source": [
    "test_set = test_datagen.flow_from_directory('F:/My Data Science Projects/Deep_Learning_Maleria_Detection/Dataset/Dataset/Test',\n",
    "                                            target_size = (224, 224),\n",
    "                                            batch_size = 32,\n",
    "                                            class_mode = 'categorical')"
   ]
  },
  {
   "cell_type": "code",
   "execution_count": 27,
   "metadata": {},
   "outputs": [],
   "source": [
    "from PIL import Image"
   ]
  },
  {
   "cell_type": "code",
   "execution_count": 28,
   "metadata": {},
   "outputs": [
    {
     "name": "stdout",
     "output_type": "stream",
     "text": [
      "Epoch 1/10\n",
      "13/13 [==============================] - 594s 46s/step - loss: 1.7612 - accuracy: 0.5096 - val_loss: 0.6595 - val_accuracy: 0.6866\n",
      "Epoch 2/10\n",
      "13/13 [==============================] - 569s 44s/step - loss: 0.8903 - accuracy: 0.6298 - val_loss: 0.5054 - val_accuracy: 0.7164\n",
      "Epoch 3/10\n",
      "13/13 [==============================] - 567s 44s/step - loss: 0.4413 - accuracy: 0.8029 - val_loss: 0.5850 - val_accuracy: 0.7090\n",
      "Epoch 4/10\n",
      "13/13 [==============================] - 571s 44s/step - loss: 0.3794 - accuracy: 0.8173 - val_loss: 0.4673 - val_accuracy: 0.7164\n",
      "Epoch 5/10\n",
      "13/13 [==============================] - 572s 44s/step - loss: 0.3502 - accuracy: 0.8486 - val_loss: 0.4924 - val_accuracy: 0.7761\n",
      "Epoch 6/10\n",
      "13/13 [==============================] - 571s 44s/step - loss: 0.2907 - accuracy: 0.9062 - val_loss: 0.3620 - val_accuracy: 0.8507\n",
      "Epoch 7/10\n",
      "13/13 [==============================] - 579s 45s/step - loss: 0.2917 - accuracy: 0.8798 - val_loss: 0.3742 - val_accuracy: 0.8433\n",
      "Epoch 8/10\n",
      "13/13 [==============================] - 571s 44s/step - loss: 0.3039 - accuracy: 0.8654 - val_loss: 0.4079 - val_accuracy: 0.8134\n",
      "Epoch 9/10\n",
      "13/13 [==============================] - 572s 44s/step - loss: 0.2600 - accuracy: 0.8870 - val_loss: 0.2847 - val_accuracy: 0.8657\n",
      "Epoch 10/10\n",
      "13/13 [==============================] - 578s 44s/step - loss: 0.2208 - accuracy: 0.9351 - val_loss: 0.3313 - val_accuracy: 0.8657\n"
     ]
    }
   ],
   "source": [
    "# fit the model\n",
    "# Run the cell. It will take some time to execute\n",
    "r = model.fit_generator(\n",
    "  training_set,\n",
    "  validation_data=test_set,\n",
    "  epochs=10,\n",
    "  steps_per_epoch=len(training_set),\n",
    "  validation_steps=len(test_set)\n",
    ")"
   ]
  },
  {
   "cell_type": "code",
   "execution_count": 29,
   "metadata": {},
   "outputs": [
    {
     "data": {
      "image/png": "[encoded data removed]",
      "text/plain": [
       "<Figure size 432x288 with 1 Axes>"
      ]
     },
     "metadata": {
      "needs_background": "light"
     },
     "output_type": "display_data"
    },
    {
     "data": {
      "image/png": "[encoded data removed]",
      "text/plain": [
       "<Figure size 432x288 with 1 Axes>"
      ]
     },
     "metadata": {
      "needs_background": "light"
     },
     "output_type": "display_data"
    },
    {
     "data": {
      "text/plain": [
       "<Figure size 432x288 with 0 Axes>"
      ]
     },
     "metadata": {},
     "output_type": "display_data"
    }
   ],
   "source": [
    "plt.plot(r.history['loss'], label='train loss')\n",
    "plt.plot(r.history['val_loss'], label='val loss')\n",
    "plt.legend()\n",
    "plt.show()\n",
    "plt.savefig('LossVal_loss')\n",
    "\n",
    "# plot the accuracy\n",
    "plt.plot(r.history['accuracy'], label='train acc')\n",
    "plt.plot(r.history['val_accuracy'], label='val acc')\n",
    "plt.legend()\n",
    "plt.show()\n",
    "plt.savefig('AccVal_acc')"
   ]
  },
  {
   "cell_type": "code",
   "execution_count": 30,
   "metadata": {},
   "outputs": [],
   "source": [
    "# save it as a h5 file\n",
    "\n",
    "from tensorflow.keras.models import load_model\n",
    "\n",
    "model.save('model_vgg19.h5')"
   ]
  },
  {
   "cell_type": "code",
   "execution_count": 31,
   "metadata": {},
   "outputs": [],
   "source": [
    "y_pred = model.predict(test_set)\n"
   ]
  },
  {
   "cell_type": "code",
   "execution_count": 32,
   "metadata": {},
   "outputs": [
    {
     "data": {
      "text/plain": [
       "array([[1.80785224e-01, 8.19214821e-01],\n",
       "       [5.17628253e-01, 4.82371777e-01],\n",
       "       [9.85819936e-01, 1.41800828e-02],\n",
       "       [1.67214870e-01, 8.32785130e-01],\n",
       "       [1.02825105e-01, 8.97174954e-01],\n",
       "       [2.44184673e-01, 7.55815387e-01],\n",
       "       [9.46604013e-01, 5.33960015e-02],\n",
       "       [1.38218880e-01, 8.61781180e-01],\n",
       "       [9.98460293e-01, 1.53976504e-03],\n",
       "       [9.85941231e-01, 1.40587818e-02],\n",
       "       [8.51820052e-01, 1.48179948e-01],\n",
       "       [6.32056415e-01, 3.67943555e-01],\n",
       "       [9.75219846e-01, 2.47802027e-02],\n",
       "       [9.82277989e-01, 1.77220423e-02],\n",
       "       [7.68994570e-01, 2.31005430e-01],\n",
       "       [8.99223685e-01, 1.00776315e-01],\n",
       "       [1.41141757e-01, 8.58858287e-01],\n",
       "       [5.22056460e-01, 4.77943540e-01],\n",
       "       [6.01387441e-01, 3.98612589e-01],\n",
       "       [7.29418933e-01, 2.70581067e-01],\n",
       "       [2.49013171e-01, 7.50986874e-01],\n",
       "       [6.52894497e-01, 3.47105533e-01],\n",
       "       [2.56551623e-01, 7.43448436e-01],\n",
       "       [1.51897207e-01, 8.48102808e-01],\n",
       "       [3.15628260e-01, 6.84371710e-01],\n",
       "       [1.89293116e-01, 8.10706913e-01],\n",
       "       [9.56737339e-01, 4.32626791e-02],\n",
       "       [8.59589517e-01, 1.40410453e-01],\n",
       "       [1.48614436e-01, 8.51385534e-01],\n",
       "       [9.93555129e-01, 6.44487469e-03],\n",
       "       [5.61563253e-01, 4.38436747e-01],\n",
       "       [3.18471998e-01, 6.81528032e-01],\n",
       "       [3.86086315e-01, 6.13913715e-01],\n",
       "       [7.92751074e-01, 2.07248986e-01],\n",
       "       [9.74528849e-01, 2.54711658e-02],\n",
       "       [9.99857545e-01, 1.42418139e-04],\n",
       "       [4.01603907e-01, 5.98396122e-01],\n",
       "       [7.11773217e-01, 2.88226813e-01],\n",
       "       [9.42417681e-01, 5.75822368e-02],\n",
       "       [9.76865172e-01, 2.31348369e-02],\n",
       "       [5.63608825e-01, 4.36391145e-01],\n",
       "       [2.73463607e-01, 7.26536393e-01],\n",
       "       [9.08435822e-01, 9.15641710e-02],\n",
       "       [1.58143416e-01, 8.41856658e-01],\n",
       "       [1.96179509e-01, 8.03820491e-01],\n",
       "       [4.62104410e-01, 5.37895620e-01],\n",
       "       [8.38127017e-01, 1.61872938e-01],\n",
       "       [9.63044941e-01, 3.69550623e-02],\n",
       "       [2.09677488e-01, 7.90322483e-01],\n",
       "       [8.49681079e-01, 1.50318936e-01],\n",
       "       [1.56492576e-01, 8.43507409e-01],\n",
       "       [2.71868020e-01, 7.28132010e-01],\n",
       "       [8.55384350e-01, 1.44615635e-01],\n",
       "       [9.96153772e-01, 3.84625839e-03],\n",
       "       [7.74563730e-01, 2.25436255e-01],\n",
       "       [9.96938825e-01, 3.06116906e-03],\n",
       "       [1.22221708e-01, 8.77778351e-01],\n",
       "       [7.90584087e-01, 2.09415898e-01],\n",
       "       [9.94566798e-01, 5.43325813e-03],\n",
       "       [9.66561913e-01, 3.34381610e-02],\n",
       "       [9.73168254e-01, 2.68317405e-02],\n",
       "       [1.55051485e-01, 8.44948471e-01],\n",
       "       [8.97511989e-02, 9.10248816e-01],\n",
       "       [5.57873785e-01, 4.42126215e-01],\n",
       "       [6.81361318e-01, 3.18638653e-01],\n",
       "       [7.85349458e-02, 9.21465099e-01],\n",
       "       [9.67431605e-01, 3.25683728e-02],\n",
       "       [9.45368171e-01, 5.46318740e-02],\n",
       "       [9.07595575e-01, 9.24044847e-02],\n",
       "       [1.33937433e-01, 8.66062522e-01],\n",
       "       [5.08361876e-01, 4.91638124e-01],\n",
       "       [3.58559310e-01, 6.41440749e-01],\n",
       "       [8.17107201e-01, 1.82892770e-01],\n",
       "       [8.94729674e-01, 1.05270296e-01],\n",
       "       [3.25699538e-01, 6.74300492e-01],\n",
       "       [3.61153156e-01, 6.38846874e-01],\n",
       "       [9.98456359e-01, 1.54368603e-03],\n",
       "       [9.58601773e-01, 4.13982272e-02],\n",
       "       [5.16790867e-01, 4.83209103e-01],\n",
       "       [6.81888014e-02, 9.31811213e-01],\n",
       "       [1.45650834e-01, 8.54349136e-01],\n",
       "       [7.01327741e-01, 2.98672229e-01],\n",
       "       [5.43635726e-01, 4.56364244e-01],\n",
       "       [1.41564399e-01, 8.58435631e-01],\n",
       "       [1.84661612e-01, 8.15338373e-01],\n",
       "       [3.57224375e-01, 6.42775655e-01],\n",
       "       [2.87124276e-01, 7.12875783e-01],\n",
       "       [2.94984251e-01, 7.05015719e-01],\n",
       "       [3.28837067e-01, 6.71162963e-01],\n",
       "       [3.31527025e-01, 6.68473005e-01],\n",
       "       [9.88098204e-01, 1.19018257e-02],\n",
       "       [8.91355276e-01, 1.08644657e-01],\n",
       "       [5.90244830e-01, 4.09755170e-01],\n",
       "       [5.44463933e-01, 4.55536097e-01],\n",
       "       [8.87860179e-01, 1.12139829e-01],\n",
       "       [2.98485518e-01, 7.01514482e-01],\n",
       "       [3.09505641e-01, 6.90494359e-01],\n",
       "       [1.48281291e-01, 8.51718664e-01],\n",
       "       [1.59547761e-01, 8.40452254e-01],\n",
       "       [4.07597512e-01, 5.92402458e-01],\n",
       "       [9.27499160e-02, 9.07250106e-01],\n",
       "       [9.76288199e-01, 2.37118378e-02],\n",
       "       [4.34249341e-01, 5.65750599e-01],\n",
       "       [9.97336686e-01, 2.66328128e-03],\n",
       "       [3.70062739e-01, 6.29937291e-01],\n",
       "       [8.93123984e-01, 1.06875971e-01],\n",
       "       [2.33940601e-01, 7.66059399e-01],\n",
       "       [6.47679210e-01, 3.52320760e-01],\n",
       "       [6.52069569e-01, 3.47930431e-01],\n",
       "       [5.31601906e-01, 4.68398154e-01],\n",
       "       [7.52504468e-01, 2.47495517e-01],\n",
       "       [5.34437716e-01, 4.65562344e-01],\n",
       "       [8.35274577e-01, 1.64725423e-01],\n",
       "       [1.90007210e-01, 8.09992790e-01],\n",
       "       [4.41168755e-01, 5.58831275e-01],\n",
       "       [9.28891599e-02, 9.07110810e-01],\n",
       "       [7.94110373e-02, 9.20588911e-01],\n",
       "       [1.73616886e-01, 8.26383173e-01],\n",
       "       [1.28853321e-01, 8.71146739e-01],\n",
       "       [9.73109782e-01, 2.68902741e-02],\n",
       "       [2.09360898e-01, 7.90639102e-01],\n",
       "       [6.50526702e-01, 3.49473327e-01],\n",
       "       [9.99337733e-01, 6.62237464e-04],\n",
       "       [9.98264730e-01, 1.73531543e-03],\n",
       "       [1.80122748e-01, 8.19877267e-01],\n",
       "       [6.26438975e-01, 3.73560995e-01],\n",
       "       [8.64516914e-01, 1.35483131e-01],\n",
       "       [8.78724456e-02, 9.12127554e-01],\n",
       "       [9.64247823e-01, 3.57521698e-02],\n",
       "       [8.98693740e-01, 1.01306215e-01],\n",
       "       [9.56862330e-01, 4.31376994e-02],\n",
       "       [2.42396191e-01, 7.57603824e-01],\n",
       "       [1.65681183e-01, 8.34318876e-01],\n",
       "       [9.87806737e-01, 1.21932896e-02]], dtype=float32)"
      ]
     },
     "execution_count": 32,
     "metadata": {},
     "output_type": "execute_result"
    }
   ],
   "source": [
    "y_pred"
   ]
  },
  {
   "cell_type": "code",
   "execution_count": 33,
   "metadata": {},
   "outputs": [],
   "source": [
    "import numpy as np\n",
    "y_pred = np.argmax(y_pred, axis=1)"
   ]
  },
  {
   "cell_type": "code",
   "execution_count": 34,
   "metadata": {},
   "outputs": [
    {
     "data": {
      "text/plain": [
       "array([1, 0, 0, 1, 1, 1, 0, 1, 0, 0, 0, 0, 0, 0, 0, 0, 1, 0, 0, 0, 1, 0,\n",
       "       1, 1, 1, 1, 0, 0, 1, 0, 0, 1, 1, 0, 0, 0, 1, 0, 0, 0, 0, 1, 0, 1,\n",
       "       1, 1, 0, 0, 1, 0, 1, 1, 0, 0, 0, 0, 1, 0, 0, 0, 0, 1, 1, 0, 0, 1,\n",
       "       0, 0, 0, 1, 0, 1, 0, 0, 1, 1, 0, 0, 0, 1, 1, 0, 0, 1, 1, 1, 1, 1,\n",
       "       1, 1, 0, 0, 0, 0, 0, 1, 1, 1, 1, 1, 1, 0, 1, 0, 1, 0, 1, 0, 0, 0,\n",
       "       0, 0, 0, 1, 1, 1, 1, 1, 1, 0, 1, 0, 0, 0, 1, 0, 0, 1, 0, 0, 0, 1,\n",
       "       1, 0], dtype=int64)"
      ]
     },
     "execution_count": 34,
     "metadata": {},
     "output_type": "execute_result"
    }
   ],
   "source": [
    "y_pred"
   ]
  },
  {
   "cell_type": "code",
   "execution_count": 35,
   "metadata": {},
   "outputs": [],
   "source": [
    "from tensorflow.keras.models import load_model\n",
    "from tensorflow.keras.preprocessing import image"
   ]
  },
  {
   "cell_type": "code",
   "execution_count": 36,
   "metadata": {},
   "outputs": [],
   "source": [
    "model=load_model('model_vgg19.h5')"
   ]
  },
  {
   "cell_type": "code",
   "execution_count": 46,
   "metadata": {},
   "outputs": [],
   "source": [
    "img=image.load_img('F:/My Data Science Projects/Deep_Learning_Maleria_Detection/Dataset/Dataset/Test/Uninfected/2.png',target_size=(224,224))"
   ]
  },
  {
   "cell_type": "code",
   "execution_count": 47,
   "metadata": {},
   "outputs": [
    {
     "data": {
      "text/plain": [
       "array([[[0., 0., 0.],\n",
       "        [0., 0., 0.],\n",
       "        [0., 0., 0.],\n",
       "        ...,\n",
       "        [0., 0., 0.],\n",
       "        [0., 0., 0.],\n",
       "        [0., 0., 0.]],\n",
       "\n",
       "       [[0., 0., 0.],\n",
       "        [0., 0., 0.],\n",
       "        [0., 0., 0.],\n",
       "        ...,\n",
       "        [0., 0., 0.],\n",
       "        [0., 0., 0.],\n",
       "        [0., 0., 0.]],\n",
       "\n",
       "       [[0., 0., 0.],\n",
       "        [0., 0., 0.],\n",
       "        [0., 0., 0.],\n",
       "        ...,\n",
       "        [0., 0., 0.],\n",
       "        [0., 0., 0.],\n",
       "        [0., 0., 0.]],\n",
       "\n",
       "       ...,\n",
       "\n",
       "       [[0., 0., 0.],\n",
       "        [0., 0., 0.],\n",
       "        [0., 0., 0.],\n",
       "        ...,\n",
       "        [0., 0., 0.],\n",
       "        [0., 0., 0.],\n",
       "        [0., 0., 0.]],\n",
       "\n",
       "       [[0., 0., 0.],\n",
       "        [0., 0., 0.],\n",
       "        [0., 0., 0.],\n",
       "        ...,\n",
       "        [0., 0., 0.],\n",
       "        [0., 0., 0.],\n",
       "        [0., 0., 0.]],\n",
       "\n",
       "       [[0., 0., 0.],\n",
       "        [0., 0., 0.],\n",
       "        [0., 0., 0.],\n",
       "        ...,\n",
       "        [0., 0., 0.],\n",
       "        [0., 0., 0.],\n",
       "        [0., 0., 0.]]], dtype=float32)"
      ]
     },
     "execution_count": 47,
     "metadata": {},
     "output_type": "execute_result"
    }
   ],
   "source": [
    "x=image.img_to_array(img)\n",
    "x\n"
   ]
  },
  {
   "cell_type": "code",
   "execution_count": 48,
   "metadata": {},
   "outputs": [
    {
     "data": {
      "text/plain": [
       "(224, 224, 3)"
      ]
     },
     "execution_count": 48,
     "metadata": {},
     "output_type": "execute_result"
    }
   ],
   "source": [
    "x.shape"
   ]
  },
  {
   "cell_type": "code",
   "execution_count": 49,
   "metadata": {},
   "outputs": [],
   "source": [
    "x=x/255"
   ]
  },
  {
   "cell_type": "code",
   "execution_count": 50,
   "metadata": {},
   "outputs": [
    {
     "data": {
      "text/plain": [
       "(1, 224, 224, 3)"
      ]
     },
     "execution_count": 50,
     "metadata": {},
     "output_type": "execute_result"
    }
   ],
   "source": [
    "x=np.expand_dims(x,axis=0)\n",
    "img_data=preprocess_input(x)\n",
    "img_data.shape"
   ]
  },
  {
   "cell_type": "code",
   "execution_count": 51,
   "metadata": {},
   "outputs": [
    {
     "data": {
      "text/plain": [
       "array([[4.8637035e-04, 9.9951363e-01]], dtype=float32)"
      ]
     },
     "execution_count": 51,
     "metadata": {},
     "output_type": "execute_result"
    }
   ],
   "source": [
    "model.predict(img_data)"
   ]
  },
  {
   "cell_type": "code",
   "execution_count": 52,
   "metadata": {},
   "outputs": [],
   "source": [
    "a=np.argmax(model.predict(img_data), axis=1)"
   ]
  },
  {
   "cell_type": "code",
   "execution_count": 53,
   "metadata": {},
   "outputs": [
    {
     "name": "stdout",
     "output_type": "stream",
     "text": [
      "Uninfected\n"
     ]
    }
   ],
   "source": [
    "if(a==1):\n",
    "    print(\"Uninfected\")\n",
    "else:\n",
    "    print(\"Infected\")"
   ]
  },
  {
   "cell_type": "code",
   "execution_count": null,
   "metadata": {},
   "outputs": [],
   "source": []
  }
 ],
 "metadata": {
  "kernelspec": {
   "display_name": "Python 3",
   "language": "python",
   "name": "python3"
  },
  "language_info": {
   "codemirror_mode": {
    "name": "ipython",
    "version": 3
   },
   "file_extension": ".py",
   "mimetype": "text/x-python",
   "name": "python",
   "nbconvert_exporter": "python",
   "pygments_lexer": "ipython3",
   "version": "3.6.12"
  }
 },
 "nbformat": 4,
 "nbformat_minor": 4
}
